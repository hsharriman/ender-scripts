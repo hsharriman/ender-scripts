{
 "cells": [
  {
   "cell_type": "code",
   "execution_count": null,
   "id": "978dd2c3-7454-49fe-95fd-3cbf5dd626b8",
   "metadata": {},
   "outputs": [],
   "source": [
    "event_logs_df.rename(columns={'t': 'time'}, inplace=True)\n",
    "event_logs_df.rename(columns={'e': 'event'}, inplace=True)\n",
    "\n",
    "# Convert the 'time' columns to datetime format\n",
    "answers_df['time'] = pd.to_datetime(answers_df['time'], unit='ms')\n",
    "event_logs_df['time'] = pd.to_datetime(event_logs_df['time'], unit='ms')\n",
    "\n",
    "# Sort both DataFrames by the 'time' column\n",
    "answers_df = answers_df.sort_values(by='time')\n",
    "event_logs_df = event_logs_df.sort_values(by='time')\n",
    "\n",
    "# Merge the DataFrames based on the 'time' column\n",
    "merged_df = pd.concat([answers_df, event_logs_df]).sort_values(by='time').reset_index(drop=True)"
   ]
  },
  {
   "cell_type": "code",
   "execution_count": null,
   "id": "e1160b88-325b-4614-a196-086b4a6cf530",
   "metadata": {},
   "outputs": [],
   "source": [
    "# Add a new column to answers_df to indicate the next answer time\n",
    "answers_df['next_time'] = answers_df['time'].shift(-1)\n",
    "\n",
    "# Merge each event log with the corresponding answer based on time interval\n",
    "merged_df = pd.merge_asof(event_logs_df, answers_df, on='time', direction='backward')\n",
    "\n",
    "event_count_dict = {}\n",
    "\n",
    "# Define event types\n",
    "event_types = ['n', 'c', 'h', 'm', 'p']\n",
    "\n",
    "# Iterate through each answer to count events between time intervals\n",
    "for index, row in answers_df.iterrows():\n",
    "    answer_time = row['time']\n",
    "    next_time = row['next_time'] if not pd.isnull(row['next_time']) else pd.Timestamp.max\n",
    "    \n",
    "    # Select events that fall within the time interval\n",
    "    filtered_events = merged_df[(merged_df['time'] >= answer_time) & (merged_df['time'] < next_time)]\n",
    "    \n",
    "    # Filter out \"hover\" events (h) that occur within 0.01 second of another event [debounce]\n",
    "    filtered_events = filtered_events[~((filtered_events['event'] == 'h') &\n",
    "                                       (filtered_events['time'].diff().dt.total_seconds() <= 0.01))]\n",
    "    \n",
    "    # Count occurrences of each event type\n",
    "    event_counts = filtered_events['event'].value_counts()\n",
    "    \n",
    "    # Initialize counts for all event types\n",
    "    counts = {event: event_counts.get(event, 0) for event in event_types}\n",
    "    \n",
    "    # Store the counts in the dictionary\n",
    "    event_count_dict[answer_time] = counts\n",
    "\n",
    "# Convert the event count dictionary into a DataFrame\n",
    "event_counts_df = pd.DataFrame.from_dict(event_count_dict, orient='index').fillna(0)\n",
    "\n",
    "# Join the event counts with the answers_df\n",
    "final_df = pd.concat([answers_df.set_index('time'), event_counts_df], axis=1).reset_index()\n",
    "\n",
    "# Drop the next_time column as it's no longer needed\n",
    "final_df = final_df.drop(columns=['next_time'])\n",
    "\n",
    "# Rename columns\n",
    "final_df.rename(columns={'n': 'next'}, inplace=True)\n",
    "final_df.rename(columns={'c': 'click'}, inplace=True)\n",
    "final_df.rename(columns={'m': 'mouse'}, inplace=True)\n",
    "final_df.rename(columns={'h': 'hover'}, inplace=True)\n",
    "final_df.rename(columns={'p': 'pointer'}, inplace=True)\n",
    "\n",
    "final_df.iloc[3:10]"
   ]
  }
 ],
 "metadata": {
  "kernelspec": {
   "display_name": "Python 3 (ipykernel)",
   "language": "python",
   "name": "python3"
  },
  "language_info": {
   "codemirror_mode": {
    "name": "ipython",
    "version": 3
   },
   "file_extension": ".py",
   "mimetype": "text/x-python",
   "name": "python",
   "nbconvert_exporter": "python",
   "pygments_lexer": "ipython3",
   "version": "3.12.4"
  }
 },
 "nbformat": 4,
 "nbformat_minor": 5
}
